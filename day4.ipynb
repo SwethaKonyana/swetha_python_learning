{
  "nbformat": 4,
  "nbformat_minor": 0,
  "metadata": {
    "colab": {
      "provenance": []
    },
    "kernelspec": {
      "name": "python3",
      "display_name": "Python 3"
    },
    "language_info": {
      "name": "python"
    }
  },
  "cells": [
    {
      "cell_type": "code",
      "execution_count": 1,
      "metadata": {
        "colab": {
          "base_uri": "https://localhost:8080/"
        },
        "id": "93TkNxDc6YVw",
        "outputId": "60d90f6f-ddf3-4e94-8d32-76c911f52e4c"
      },
      "outputs": [
        {
          "output_type": "execute_result",
          "data": {
            "text/plain": [
              "range(0, 11)"
            ]
          },
          "metadata": {},
          "execution_count": 1
        }
      ],
      "source": [
        "range(0,11)"
      ]
    },
    {
      "cell_type": "code",
      "source": [
        "list(range(0,11))"
      ],
      "metadata": {
        "colab": {
          "base_uri": "https://localhost:8080/"
        },
        "id": "9AcFaNeG9r_S",
        "outputId": "0d981fc4-f133-4450-8994-c330fc7ef851"
      },
      "execution_count": 2,
      "outputs": [
        {
          "output_type": "execute_result",
          "data": {
            "text/plain": [
              "[0, 1, 2, 3, 4, 5, 6, 7, 8, 9, 10]"
            ]
          },
          "metadata": {},
          "execution_count": 2
        }
      ]
    },
    {
      "cell_type": "code",
      "source": [
        "list(range(0,11,3)) #step method"
      ],
      "metadata": {
        "colab": {
          "base_uri": "https://localhost:8080/"
        },
        "id": "hHVfOZHg9vCD",
        "outputId": "4655e6ef-af22-4b1b-ab62-acc77021ff8e"
      },
      "execution_count": 3,
      "outputs": [
        {
          "output_type": "execute_result",
          "data": {
            "text/plain": [
              "[0, 3, 6, 9]"
            ]
          },
          "metadata": {},
          "execution_count": 3
        }
      ]
    },
    {
      "cell_type": "code",
      "source": [
        "#enumerate"
      ],
      "metadata": {
        "id": "SSa3mpIJ94Pa"
      },
      "execution_count": null,
      "outputs": []
    },
    {
      "cell_type": "code",
      "source": [
        "index_count=0\n",
        "for letter in 'abcde':\n",
        "  print(\"at index {} the letter is {}\".format(index_count,letter))\n",
        "  index_count += 1"
      ],
      "metadata": {
        "colab": {
          "base_uri": "https://localhost:8080/"
        },
        "id": "52Uwm6qM97NI",
        "outputId": "16da0c62-c7a9-4bca-9147-8dbe0c8503f4"
      },
      "execution_count": 7,
      "outputs": [
        {
          "output_type": "stream",
          "name": "stdout",
          "text": [
            "at index 0 the letter is a\n",
            "at index 1 the letter is b\n",
            "at index 2 the letter is c\n",
            "at index 3 the letter is d\n",
            "at index 4 the letter is e\n"
          ]
        }
      ]
    },
    {
      "cell_type": "code",
      "source": [
        "for i,letter in enumerate('abcde'):\n",
        "  print(\"At index {} the letter is {}\".format(i,letter))"
      ],
      "metadata": {
        "colab": {
          "base_uri": "https://localhost:8080/"
        },
        "id": "D6jjKYRc-xXp",
        "outputId": "cf96ff4e-36d8-431e-c519-d48411668a1b"
      },
      "execution_count": 9,
      "outputs": [
        {
          "output_type": "stream",
          "name": "stdout",
          "text": [
            "At index 0 the letter is a\n",
            "At index 1 the letter is b\n",
            "At index 2 the letter is c\n",
            "At index 3 the letter is d\n",
            "At index 4 the letter is e\n"
          ]
        }
      ]
    },
    {
      "cell_type": "code",
      "source": [
        "#zip"
      ],
      "metadata": {
        "id": "0jYLG0Lu_HhG"
      },
      "execution_count": null,
      "outputs": []
    },
    {
      "cell_type": "code",
      "source": [
        "# if we take 2 lists to join frst element in list 1 with 1st element in list 2 we use zip"
      ],
      "metadata": {
        "id": "h4hEuSew_Kms"
      },
      "execution_count": null,
      "outputs": []
    },
    {
      "cell_type": "code",
      "source": [
        "list(enumerate('abcde'))"
      ],
      "metadata": {
        "colab": {
          "base_uri": "https://localhost:8080/"
        },
        "id": "2Pcgp1v2_af0",
        "outputId": "7f725426-d4ce-4f0a-83ea-8c1596f27990"
      },
      "execution_count": 10,
      "outputs": [
        {
          "output_type": "execute_result",
          "data": {
            "text/plain": [
              "[(0, 'a'), (1, 'b'), (2, 'c'), (3, 'd'), (4, 'e')]"
            ]
          },
          "metadata": {},
          "execution_count": 10
        }
      ]
    },
    {
      "cell_type": "code",
      "source": [
        "l1=[1,2,3,4,5]\n",
        "l2=[\"a\",\"b\",\"c\",\"d\",\"e\"]\n",
        "list(zip(l1,l2))"
      ],
      "metadata": {
        "colab": {
          "base_uri": "https://localhost:8080/"
        },
        "id": "p33_7X0N_iOg",
        "outputId": "6c43ad41-cd56-4b23-de3c-b3ab03ff4c85"
      },
      "execution_count": 12,
      "outputs": [
        {
          "output_type": "execute_result",
          "data": {
            "text/plain": [
              "[(1, 'a'), (2, 'b'), (3, 'c'), (4, 'd'), (5, 'e')]"
            ]
          },
          "metadata": {},
          "execution_count": 12
        }
      ]
    },
    {
      "cell_type": "code",
      "source": [
        "for item1,item2 in zip(l1,l2):\n",
        "  print(\"for this tuple, first item was {} and second item was {}\".format(item1,item2))"
      ],
      "metadata": {
        "colab": {
          "base_uri": "https://localhost:8080/"
        },
        "id": "QjBkqdIu_uLK",
        "outputId": "d81ea266-7f95-4095-e39b-c86cdac96f12"
      },
      "execution_count": 13,
      "outputs": [
        {
          "output_type": "stream",
          "name": "stdout",
          "text": [
            "for this tuple, first item was1 and second item wasa\n",
            "for this tuple, first item was2 and second item wasb\n",
            "for this tuple, first item was3 and second item wasc\n",
            "for this tuple, first item was4 and second item wasd\n",
            "for this tuple, first item was5 and second item wase\n"
          ]
        }
      ]
    },
    {
      "cell_type": "code",
      "source": [
        "#in operator\n",
        "'x ' in [\"a\",\"b\",\"x\"]"
      ],
      "metadata": {
        "colab": {
          "base_uri": "https://localhost:8080/"
        },
        "id": "YeSPU8yFBPyZ",
        "outputId": "887bb353-2fa0-4898-9bae-b10faefc8e22"
      },
      "execution_count": 16,
      "outputs": [
        {
          "output_type": "execute_result",
          "data": {
            "text/plain": [
              "False"
            ]
          },
          "metadata": {},
          "execution_count": 16
        }
      ]
    },
    {
      "cell_type": "code",
      "source": [
        "\"x\" in [1,2,3,4]"
      ],
      "metadata": {
        "colab": {
          "base_uri": "https://localhost:8080/"
        },
        "id": "EvF51bzFBdnz",
        "outputId": "862547e5-7a50-43f6-ca7e-6ed2a3f65259"
      },
      "execution_count": 15,
      "outputs": [
        {
          "output_type": "execute_result",
          "data": {
            "text/plain": [
              "False"
            ]
          },
          "metadata": {},
          "execution_count": 15
        }
      ]
    },
    {
      "cell_type": "code",
      "source": [
        "#in operator\n",
        "'x' in [\"a\",\"b\",\"x\"]"
      ],
      "metadata": {
        "colab": {
          "base_uri": "https://localhost:8080/"
        },
        "id": "Oj11umSHBo-A",
        "outputId": "618f0d35-2b9f-444e-dd15-ebf4efdf8165"
      },
      "execution_count": 17,
      "outputs": [
        {
          "output_type": "execute_result",
          "data": {
            "text/plain": [
              "True"
            ]
          },
          "metadata": {},
          "execution_count": 17
        }
      ]
    },
    {
      "cell_type": "code",
      "source": [
        "#min and max"
      ],
      "metadata": {
        "id": "JWH4mHBvBrPL"
      },
      "execution_count": null,
      "outputs": []
    },
    {
      "cell_type": "code",
      "source": [],
      "metadata": {
        "id": "69j6PGQuB4Hf"
      },
      "execution_count": null,
      "outputs": []
    },
    {
      "cell_type": "markdown",
      "source": [
        "l=[1,2,3,6,4,5,90]\n",
        "min(l)"
      ],
      "metadata": {
        "id": "SBiiDhdpBwn6"
      }
    },
    {
      "cell_type": "code",
      "source": [
        "l=[1,2,3,4,5,6,7,8]\n",
        "min(l)"
      ],
      "metadata": {
        "colab": {
          "base_uri": "https://localhost:8080/"
        },
        "id": "fWRtYsPlB7k3",
        "outputId": "3a98ace6-b240-4f6a-e32c-a199124aaa7b"
      },
      "execution_count": 20,
      "outputs": [
        {
          "output_type": "execute_result",
          "data": {
            "text/plain": [
              "1"
            ]
          },
          "metadata": {},
          "execution_count": 20
        }
      ]
    },
    {
      "cell_type": "code",
      "source": [
        "max(l)"
      ],
      "metadata": {
        "colab": {
          "base_uri": "https://localhost:8080/"
        },
        "id": "rMltn92WB_ma",
        "outputId": "54a723a5-e486-4541-b864-cd558a65106e"
      },
      "execution_count": 21,
      "outputs": [
        {
          "output_type": "execute_result",
          "data": {
            "text/plain": [
              "8"
            ]
          },
          "metadata": {},
          "execution_count": 21
        }
      ]
    },
    {
      "cell_type": "code",
      "source": [
        "#random"
      ],
      "metadata": {
        "id": "7-3bxthVCC_2"
      },
      "execution_count": null,
      "outputs": []
    },
    {
      "cell_type": "code",
      "source": [
        "from random import shuffle\n",
        "l=[1,2,3,4,5,6]\n",
        "(shuffle(l))\n",
        "l"
      ],
      "metadata": {
        "colab": {
          "base_uri": "https://localhost:8080/"
        },
        "id": "csmfyEqQCE6L",
        "outputId": "252b0a53-a8a4-4199-9544-ed033cc58c5f"
      },
      "execution_count": 25,
      "outputs": [
        {
          "output_type": "execute_result",
          "data": {
            "text/plain": [
              "[4, 1, 5, 6, 3, 2]"
            ]
          },
          "metadata": {},
          "execution_count": 25
        }
      ]
    },
    {
      "cell_type": "code",
      "source": [
        "from random import randint\n",
        "randint(0,24)"
      ],
      "metadata": {
        "colab": {
          "base_uri": "https://localhost:8080/"
        },
        "id": "PwQrvMLtCrAo",
        "outputId": "6c85e6cf-c836-41e3-fb6b-ab4f358caf69"
      },
      "execution_count": 26,
      "outputs": [
        {
          "output_type": "execute_result",
          "data": {
            "text/plain": [
              "22"
            ]
          },
          "metadata": {},
          "execution_count": 26
        }
      ]
    },
    {
      "cell_type": "code",
      "source": [
        "# input\n",
        "input(\"enter something:\")"
      ],
      "metadata": {
        "colab": {
          "base_uri": "https://localhost:8080/",
          "height": 52
        },
        "id": "01HZuTvLC0xc",
        "outputId": "f20cc4ac-e5a1-4e5f-bafd-a5e793f0a5ed"
      },
      "execution_count": 27,
      "outputs": [
        {
          "name": "stdout",
          "output_type": "stream",
          "text": [
            "enter something:swe\n"
          ]
        },
        {
          "output_type": "execute_result",
          "data": {
            "text/plain": [
              "'swe'"
            ],
            "application/vnd.google.colaboratory.intrinsic+json": {
              "type": "string"
            }
          },
          "metadata": {},
          "execution_count": 27
        }
      ]
    },
    {
      "cell_type": "code",
      "source": [
        "#llist comprehension\n"
      ],
      "metadata": {
        "id": "PYkvjo0iDCbZ"
      },
      "execution_count": null,
      "outputs": []
    },
    {
      "cell_type": "code",
      "source": [
        "list=[x for x in \"word\"]\n",
        "list"
      ],
      "metadata": {
        "colab": {
          "base_uri": "https://localhost:8080/"
        },
        "id": "HQWKtrZFEH_4",
        "outputId": "94d044da-3a39-4a82-c4ed-86640b4fc31c"
      },
      "execution_count": 28,
      "outputs": [
        {
          "output_type": "execute_result",
          "data": {
            "text/plain": [
              "['w', 'o', 'r', 'd']"
            ]
          },
          "metadata": {},
          "execution_count": 28
        }
      ]
    },
    {
      "cell_type": "code",
      "source": [
        "list=[x**2 for x in range(0,11)]\n",
        "list"
      ],
      "metadata": {
        "colab": {
          "base_uri": "https://localhost:8080/"
        },
        "id": "dT14swNjEZDs",
        "outputId": "6e4c6018-8da8-4215-e96f-e1b3c9409b26"
      },
      "execution_count": 31,
      "outputs": [
        {
          "output_type": "execute_result",
          "data": {
            "text/plain": [
              "[0, 1, 4, 9, 16, 25, 36, 49, 64, 81, 100]"
            ]
          },
          "metadata": {},
          "execution_count": 31
        }
      ]
    },
    {
      "cell_type": "code",
      "source": [
        "list=[x for x in range(11) if x%2!=0]\n",
        "list"
      ],
      "metadata": {
        "colab": {
          "base_uri": "https://localhost:8080/"
        },
        "id": "LoAO5n3GElcS",
        "outputId": "5c34556a-c5f6-4aee-d107-bd84446fbe4f"
      },
      "execution_count": 33,
      "outputs": [
        {
          "output_type": "execute_result",
          "data": {
            "text/plain": [
              "[1, 3, 5, 7, 9]"
            ]
          },
          "metadata": {},
          "execution_count": 33
        }
      ]
    },
    {
      "cell_type": "code",
      "source": [
        "list=[x for x in range(11) if x%2==0]\n",
        "list"
      ],
      "metadata": {
        "colab": {
          "base_uri": "https://localhost:8080/"
        },
        "id": "BtGwfkB8Ez4f",
        "outputId": "21ce703f-3033-4b33-e651-125254769dde"
      },
      "execution_count": 34,
      "outputs": [
        {
          "output_type": "execute_result",
          "data": {
            "text/plain": [
              "[0, 2, 4, 6, 8, 10]"
            ]
          },
          "metadata": {},
          "execution_count": 34
        }
      ]
    },
    {
      "cell_type": "code",
      "source": [
        "celsius=[0,34,35,52]\n",
        "farenheit=[((9/5)*temp+35) for temp in celsius]\n",
        "farenheit"
      ],
      "metadata": {
        "colab": {
          "base_uri": "https://localhost:8080/"
        },
        "id": "veiKhWLJE2gn",
        "outputId": "f59c0807-daee-41ab-e35d-f337f328dff2"
      },
      "execution_count": 35,
      "outputs": [
        {
          "output_type": "execute_result",
          "data": {
            "text/plain": [
              "[35.0, 96.2, 98.0, 128.60000000000002]"
            ]
          },
          "metadata": {},
          "execution_count": 35
        }
      ]
    },
    {
      "cell_type": "code",
      "source": [
        "l=[x**2 for x in[x**2 for x in range(11)]]\n",
        "l"
      ],
      "metadata": {
        "colab": {
          "base_uri": "https://localhost:8080/"
        },
        "id": "xV0o3sYdFJ08",
        "outputId": "bb716884-9886-4b5a-a6dc-83cffa24b40c"
      },
      "execution_count": 36,
      "outputs": [
        {
          "output_type": "execute_result",
          "data": {
            "text/plain": [
              "[0, 1, 16, 81, 256, 625, 1296, 2401, 4096, 6561, 10000]"
            ]
          },
          "metadata": {},
          "execution_count": 36
        }
      ]
    },
    {
      "cell_type": "code",
      "source": [
        "# guessing game\n",
        "\n"
      ],
      "metadata": {
        "id": "4IT_f7sUFf-p"
      },
      "execution_count": null,
      "outputs": []
    },
    {
      "cell_type": "code",
      "source": [
        "print(\"'WELCOME TO GUESS ME!!\")\n",
        "print(\"Let's Play\")\n",
        "from random import randint\n",
        "num=randint(0,101)\n",
        "guesses =[0]\n",
        "while True:\n",
        "  guess=int(input(\"Guess a number:\"))\n",
        "  if guess<1 or guess>100:\n",
        "    print(\"OUT OF BOUNDS!\")\n",
        "    continue\n",
        "  if guess==num:\n",
        "    print(\"Congrats!! you have guessd in {} attempts\".format(len(guesses)))\n",
        "    break\n",
        "  guesses.append(guess)\n",
        "\n",
        "  if guesses[-2]:\n",
        "    if abs(num-guess)<abs(num-guesses[-2]):\n",
        "      print(\"WARMER!!\")\n",
        "    else:\n",
        "      print(\"COLDER!!\")\n",
        "  else:\n",
        "    if abs(num-guess)<=10:\n",
        "      print(\"WARM!!\")\n",
        "    else:\n",
        "      print(\"COLD!!\")\n",
        "\n",
        "\n",
        "\n"
      ],
      "metadata": {
        "colab": {
          "base_uri": "https://localhost:8080/"
        },
        "id": "IVMD-kDNFiC2",
        "outputId": "d6549b80-7c17-414c-b9e7-abf5ffadef89"
      },
      "execution_count": 37,
      "outputs": [
        {
          "output_type": "stream",
          "name": "stdout",
          "text": [
            "'WELCOME TO GUESS ME!!\n",
            "Let's Play\n",
            "Guess a number:3\n",
            "COLD!!\n",
            "Guess a number:2\n",
            "COLDER!!\n",
            "Guess a number:6\n",
            "WARMER!!\n",
            "Guess a number:34\n",
            "WARMER!!\n",
            "Guess a number:45\n",
            "WARMER!!\n",
            "Guess a number:45\n",
            "COLDER!!\n",
            "Guess a number:34\n",
            "COLDER!!\n",
            "Guess a number:90\n",
            "WARMER!!\n",
            "Guess a number:53\n",
            "WARMER!!\n",
            "Guess a number:54\n",
            "WARMER!!\n",
            "Guess a number:54\n",
            "COLDER!!\n",
            "Guess a number:35\n",
            "COLDER!!\n",
            "Guess a number:52\n",
            "WARMER!!\n",
            "Guess a number:43\n",
            "COLDER!!\n",
            "Guess a number:62\n",
            "WARMER!!\n",
            "Guess a number:65\n",
            "WARMER!!\n",
            "Guess a number:234\n",
            "OUT OF BOUNDS!\n",
            "Guess a number:24\n",
            "COLDER!!\n",
            "Guess a number:56\n",
            "WARMER!!\n",
            "Guess a number:52\n",
            "COLDER!!\n",
            "Guess a number:52\n",
            "COLDER!!\n",
            "Guess a number:52\n",
            "COLDER!!\n",
            "Guess a number:52\n",
            "COLDER!!\n",
            "Guess a number:1\n",
            "COLDER!!\n",
            "Guess a number:43\n",
            "WARMER!!\n",
            "Guess a number:35\n",
            "COLDER!!\n",
            "Guess a number:44\n",
            "WARMER!!\n",
            "Guess a number:45\n",
            "WARMER!!\n",
            "Guess a number:46\n",
            "WARMER!!\n",
            "Guess a number:47\n",
            "WARMER!!\n",
            "Guess a number:8\n",
            "COLDER!!\n",
            "Guess a number:48\n",
            "WARMER!!\n",
            "Guess a number:49\n",
            "WARMER!!\n",
            "Guess a number:50\n",
            "WARMER!!\n",
            "Guess a number:51\n",
            "WARMER!!\n",
            "Guess a number:52\n",
            "WARMER!!\n",
            "Guess a number:55\n",
            "WARMER!!\n",
            "Guess a number:60\n",
            "WARMER!!\n",
            "Guess a number:66\n",
            "Congrats!! you have guessd in 38 attempts\n"
          ]
        }
      ]
    },
    {
      "cell_type": "code",
      "source": [
        "l=[1,2,3,4,5,6]\n",
        "l.append(7)\n",
        "l"
      ],
      "metadata": {
        "colab": {
          "base_uri": "https://localhost:8080/"
        },
        "id": "KGbs87wqMPSv",
        "outputId": "5f7648ee-299d-4106-e28b-d072f5452045"
      },
      "execution_count": 38,
      "outputs": [
        {
          "output_type": "execute_result",
          "data": {
            "text/plain": [
              "[1, 2, 3, 4, 5, 6, 7]"
            ]
          },
          "metadata": {},
          "execution_count": 38
        }
      ]
    },
    {
      "cell_type": "code",
      "source": [
        "l.append(3)\n",
        "l"
      ],
      "metadata": {
        "colab": {
          "base_uri": "https://localhost:8080/"
        },
        "id": "vNBBKA6fMdkO",
        "outputId": "847c3eba-c57e-4453-836c-6bd620f66145"
      },
      "execution_count": 42,
      "outputs": [
        {
          "output_type": "execute_result",
          "data": {
            "text/plain": [
              "[1, 2, 3, 4, 5, 6, 7, 3, 3]"
            ]
          },
          "metadata": {},
          "execution_count": 42
        }
      ]
    },
    {
      "cell_type": "code",
      "source": [
        "l.count(3)"
      ],
      "metadata": {
        "colab": {
          "base_uri": "https://localhost:8080/"
        },
        "id": "W7c0vHibMvtD",
        "outputId": "d2a856d4-9759-4d0f-c921-62bfd8c08241"
      },
      "execution_count": 43,
      "outputs": [
        {
          "output_type": "execute_result",
          "data": {
            "text/plain": [
              "3"
            ]
          },
          "metadata": {},
          "execution_count": 43
        }
      ]
    },
    {
      "cell_type": "code",
      "source": [
        "l.insert(3,'a')\n",
        "l"
      ],
      "metadata": {
        "colab": {
          "base_uri": "https://localhost:8080/"
        },
        "id": "dWyEuARgMxcQ",
        "outputId": "e836784b-308e-4b1d-def1-a9247862aa44"
      },
      "execution_count": 45,
      "outputs": [
        {
          "output_type": "execute_result",
          "data": {
            "text/plain": [
              "[1, 2, 3, 'a', 'a', 4, 5, 6, 7, 3, 3]"
            ]
          },
          "metadata": {},
          "execution_count": 45
        }
      ]
    },
    {
      "cell_type": "code",
      "source": [
        "l.pop(3)"
      ],
      "metadata": {
        "colab": {
          "base_uri": "https://localhost:8080/",
          "height": 35
        },
        "id": "x9BzFR4sM5Wt",
        "outputId": "d959fdeb-cd3f-4f26-8e9a-c3119d2ce844"
      },
      "execution_count": 50,
      "outputs": [
        {
          "output_type": "execute_result",
          "data": {
            "text/plain": [
              "'a'"
            ],
            "application/vnd.google.colaboratory.intrinsic+json": {
              "type": "string"
            }
          },
          "metadata": {},
          "execution_count": 50
        }
      ]
    },
    {
      "cell_type": "code",
      "source": [
        "l.remove(\"a\")\n",
        "l"
      ],
      "metadata": {
        "colab": {
          "base_uri": "https://localhost:8080/"
        },
        "id": "Yxe0lTVvNElJ",
        "outputId": "c4e87488-f6d6-470e-a657-0b12322b24dc"
      },
      "execution_count": 54,
      "outputs": [
        {
          "output_type": "execute_result",
          "data": {
            "text/plain": [
              "[1, 2, 5, 6, 7, 3, 3]"
            ]
          },
          "metadata": {},
          "execution_count": 54
        }
      ]
    },
    {
      "cell_type": "code",
      "source": [
        "l.reverse()\n",
        "l"
      ],
      "metadata": {
        "colab": {
          "base_uri": "https://localhost:8080/"
        },
        "id": "V-J7avnqNQGS",
        "outputId": "fb11cdd1-0e21-41fc-efa8-3842e9e7619c"
      },
      "execution_count": 56,
      "outputs": [
        {
          "output_type": "execute_result",
          "data": {
            "text/plain": [
              "[1, 2, 5, 6, 7, 3, 3]"
            ]
          },
          "metadata": {},
          "execution_count": 56
        }
      ]
    },
    {
      "cell_type": "code",
      "source": [
        "l.reverse()\n",
        "l"
      ],
      "metadata": {
        "colab": {
          "base_uri": "https://localhost:8080/"
        },
        "id": "3qnXNX8aNVTv",
        "outputId": "218fdff1-f139-477b-c97a-7383ed83ee4c"
      },
      "execution_count": 57,
      "outputs": [
        {
          "output_type": "execute_result",
          "data": {
            "text/plain": [
              "[3, 3, 7, 6, 5, 2, 1]"
            ]
          },
          "metadata": {},
          "execution_count": 57
        }
      ]
    },
    {
      "cell_type": "code",
      "source": [
        "l.sort()\n",
        "l"
      ],
      "metadata": {
        "colab": {
          "base_uri": "https://localhost:8080/"
        },
        "id": "erakH0rPNYCv",
        "outputId": "da429870-69a9-4f40-d771-bb57ee49d5c4"
      },
      "execution_count": 58,
      "outputs": [
        {
          "output_type": "execute_result",
          "data": {
            "text/plain": [
              "[1, 2, 3, 3, 5, 6, 7]"
            ]
          },
          "metadata": {},
          "execution_count": 58
        }
      ]
    },
    {
      "cell_type": "code",
      "source": [
        "# extend concat 2 lists"
      ],
      "metadata": {
        "id": "hll0bgbQNgkd"
      },
      "execution_count": 59,
      "outputs": []
    },
    {
      "cell_type": "code",
      "source": [
        "l1=[\"a\",\"b\",\"c\",\"d\"]\n",
        "l2=[\"e\",\"f\",\"g\",\"d\"]\n",
        "l1.extend(l2)\n",
        "l1"
      ],
      "metadata": {
        "colab": {
          "base_uri": "https://localhost:8080/"
        },
        "id": "OyMfW9rDNkbA",
        "outputId": "41f5e871-6a95-4163-c2b2-e4a145900d15"
      },
      "execution_count": 61,
      "outputs": [
        {
          "output_type": "execute_result",
          "data": {
            "text/plain": [
              "['a', 'b', 'c', 'd', 'e', 'f', 'g', 'd']"
            ]
          },
          "metadata": {},
          "execution_count": 61
        }
      ]
    },
    {
      "cell_type": "code",
      "source": [
        "#problem solving\n",
        "# 1\n"
      ],
      "metadata": {
        "id": "pxKQfW3zN7MS"
      },
      "execution_count": null,
      "outputs": []
    },
    {
      "cell_type": "code",
      "source": [
        "factorial=1\n",
        "num=int(input(\"enter a number:\"))\n",
        "if num<0:\n",
        "  print(\"Invalid\")\n",
        "elif num ==0:\n",
        "  print(f\"the factorial of {num} is {factorial}\")\n",
        "else:\n",
        "  for i in range(1,num+1):\n",
        "    factorial=factorial*i\n",
        "  print(f\" the factorial of number {num} is {factorial}\")"
      ],
      "metadata": {
        "colab": {
          "base_uri": "https://localhost:8080/"
        },
        "id": "RNE_kOECN_DF",
        "outputId": "05373ee2-a6e1-4254-8360-ef5182f04127"
      },
      "execution_count": 64,
      "outputs": [
        {
          "output_type": "stream",
          "name": "stdout",
          "text": [
            "enter a number:5\n",
            " the factorial of numnber 5 is 120\n"
          ]
        }
      ]
    },
    {
      "cell_type": "code",
      "source": [
        "#method 2\n",
        "def factorial(num):\n",
        "  if num==1:\n",
        "    return num\n",
        "  else:\n",
        "    return num*factorial(num-1)\n",
        "num=int(input(\"enter number:\"))\n",
        "fact=factorial(num)\n",
        "print(f\"the factorial of {num} is {fact}\")\n",
        "\n"
      ],
      "metadata": {
        "colab": {
          "base_uri": "https://localhost:8080/"
        },
        "id": "9EWIkr1JPi7W",
        "outputId": "329ddc3f-1c35-4994-ec78-9ab6039d2444"
      },
      "execution_count": 65,
      "outputs": [
        {
          "output_type": "stream",
          "name": "stdout",
          "text": [
            "enter number:5\n",
            "the factorial of 5 is 120\n"
          ]
        }
      ]
    },
    {
      "cell_type": "code",
      "source": [
        "#fibonacci series\n",
        "def fibonacci(n):\n",
        "    fib_series = []\n",
        "    a, b = 0, 1\n",
        "    for c in range(n):\n",
        "        fib_series.append(a)\n",
        "        a, b = b, a + b\n",
        "    return fib_series\n",
        "\n",
        "\n",
        "n = int(input(\"enter a number:\"))\n",
        "fib_series = fibonacci(n)\n",
        "print(\"Fibonacci series up to\", n, \"terms:\", fib_series)\n"
      ],
      "metadata": {
        "colab": {
          "base_uri": "https://localhost:8080/"
        },
        "id": "Y54u7WWvQGEc",
        "outputId": "8ae50a1b-95f5-4de1-ff00-599668b4158f"
      },
      "execution_count": 67,
      "outputs": [
        {
          "output_type": "stream",
          "name": "stdout",
          "text": [
            "enter a number:5\n",
            "Fibonacci series up to 5 terms: [0, 1, 1, 2, 3]\n"
          ]
        }
      ]
    }
  ]
}