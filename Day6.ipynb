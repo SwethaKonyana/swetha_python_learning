{
  "nbformat": 4,
  "nbformat_minor": 0,
  "metadata": {
    "colab": {
      "provenance": []
    },
    "kernelspec": {
      "name": "python3",
      "display_name": "Python 3"
    },
    "language_info": {
      "name": "python"
    }
  },
  "cells": [
    {
      "cell_type": "code",
      "execution_count": null,
      "metadata": {
        "id": "Z14zUUZXVmxD"
      },
      "outputs": [],
      "source": []
    },
    {
      "cell_type": "code",
      "source": [],
      "metadata": {
        "id": "vGyoeXNlEJIH"
      },
      "execution_count": null,
      "outputs": []
    },
    {
      "cell_type": "markdown",
      "source": [
        "Object Oriented Programming\n"
      ],
      "metadata": {
        "id": "iUgedyPDeuBc"
      }
    },
    {
      "cell_type": "code",
      "source": [
        "lst=[1,2,3,4]\n",
        "print(type(lst))"
      ],
      "metadata": {
        "colab": {
          "base_uri": "https://localhost:8080/"
        },
        "id": "CoRFY_H9fAIf",
        "outputId": "957590c8-c5ed-43b2-b207-5a9c7f9c84d5"
      },
      "execution_count": null,
      "outputs": [
        {
          "output_type": "stream",
          "name": "stdout",
          "text": [
            "<class 'list'>\n"
          ]
        }
      ]
    },
    {
      "cell_type": "markdown",
      "source": [
        "METHODS(Functions defined inside class)"
      ],
      "metadata": {
        "id": "ApTkF3hkfK8P"
      }
    },
    {
      "cell_type": "code",
      "source": [
        "lst.count(2)"
      ],
      "metadata": {
        "colab": {
          "base_uri": "https://localhost:8080/"
        },
        "id": "jOOcyBwjfPaA",
        "outputId": "7709a753-c9ab-4b24-a614-ed14d018665f"
      },
      "execution_count": null,
      "outputs": [
        {
          "output_type": "execute_result",
          "data": {
            "text/plain": [
              "1"
            ]
          },
          "metadata": {},
          "execution_count": 3
        }
      ]
    },
    {
      "cell_type": "code",
      "source": [
        "print(type(1))\n",
        "print(type([]))\n",
        "print(type({}))\n",
        "print(type(()))"
      ],
      "metadata": {
        "colab": {
          "base_uri": "https://localhost:8080/"
        },
        "id": "A7oChbJmfpJO",
        "outputId": "824d3fa3-8fe8-4999-cbae-e1c59cb0a2ec"
      },
      "execution_count": null,
      "outputs": [
        {
          "output_type": "stream",
          "name": "stdout",
          "text": [
            "<class 'int'>\n",
            "<class 'list'>\n",
            "<class 'dict'>\n",
            "<class 'tuple'>\n"
          ]
        }
      ]
    },
    {
      "cell_type": "code",
      "source": [],
      "metadata": {
        "id": "NNCVa7Gzf6Jg"
      },
      "execution_count": null,
      "outputs": []
    },
    {
      "cell_type": "markdown",
      "source": [
        "Class\n"
      ],
      "metadata": {
        "id": "RfHjJbDHgKG1"
      }
    },
    {
      "cell_type": "code",
      "source": [
        "class Sample:\n",
        "  pass\n",
        "x=Sample() #object creation\n",
        "print(type(x))\n"
      ],
      "metadata": {
        "colab": {
          "base_uri": "https://localhost:8080/"
        },
        "id": "rbwZl9Y8gLlK",
        "outputId": "deea2984-d281-4379-ce6a-9229c0de3bdd"
      },
      "execution_count": null,
      "outputs": [
        {
          "output_type": "stream",
          "name": "stdout",
          "text": [
            "<class '__main__.Sample'>\n"
          ]
        }
      ]
    },
    {
      "cell_type": "code",
      "source": [
        "__init__()\n",
        "#this method is used to initialize the attributes of an object"
      ],
      "metadata": {
        "id": "FC8l_yYHjf2B"
      },
      "execution_count": null,
      "outputs": []
    },
    {
      "cell_type": "code",
      "source": [
        "class dog:\n",
        "  def __init__(self,breed):\n",
        "    self.breed=breed\n",
        "sam1=dog(breed=\"lab\")\n",
        "frank1=dog(breed=\"Husky\")\n",
        "sam=sam1.breed\n",
        "frank=frank1.breed\n",
        "print(sam)\n",
        "print(frank)"
      ],
      "metadata": {
        "colab": {
          "base_uri": "https://localhost:8080/"
        },
        "id": "EDMtoTdYkN2c",
        "outputId": "f7a78fb9-69f1-4ff2-9d4b-7965b79564c1"
      },
      "execution_count": null,
      "outputs": [
        {
          "output_type": "stream",
          "name": "stdout",
          "text": [
            "lab\n",
            "Husky\n"
          ]
        }
      ]
    },
    {
      "cell_type": "code",
      "source": [],
      "metadata": {
        "colab": {
          "base_uri": "https://localhost:8080/",
          "height": 176
        },
        "id": "Hf23oiBqnY13",
        "outputId": "9160b5cc-e0a8-482f-f006-b997ae1ea685"
      },
      "execution_count": null,
      "outputs": [
        {
          "output_type": "error",
          "ename": "AttributeError",
          "evalue": "'str' object has no attribute 'species'",
          "traceback": [
            "\u001b[0;31m---------------------------------------------------------------------------\u001b[0m",
            "\u001b[0;31mAttributeError\u001b[0m                            Traceback (most recent call last)",
            "\u001b[0;32m<ipython-input-14-5b9d6b9edb70>\u001b[0m in \u001b[0;36m<cell line: 8>\u001b[0;34m()\u001b[0m\n\u001b[1;32m      6\u001b[0m   \u001b[0msam\u001b[0m\u001b[0;34m=\u001b[0m\u001b[0mdog\u001b[0m\u001b[0;34m(\u001b[0m\u001b[0;34m'lab'\u001b[0m\u001b[0;34m,\u001b[0m\u001b[0;34m'Husky'\u001b[0m\u001b[0;34m)\u001b[0m\u001b[0;34m\u001b[0m\u001b[0;34m\u001b[0m\u001b[0m\n\u001b[1;32m      7\u001b[0m   \u001b[0msam\u001b[0m\u001b[0;34m.\u001b[0m\u001b[0mname\u001b[0m\u001b[0;34m\u001b[0m\u001b[0;34m\u001b[0m\u001b[0m\n\u001b[0;32m----> 8\u001b[0;31m \u001b[0msam\u001b[0m\u001b[0;34m.\u001b[0m\u001b[0mspecies\u001b[0m\u001b[0;34m\u001b[0m\u001b[0;34m\u001b[0m\u001b[0m\n\u001b[0m",
            "\u001b[0;31mAttributeError\u001b[0m: 'str' object has no attribute 'species'"
          ]
        }
      ]
    },
    {
      "cell_type": "code",
      "source": [
        "class Circle:\n",
        "  pi=3.14\n",
        "  def __init__(self,radius=1):\n",
        "    self.radius=radius\n",
        "    self.area = radius*radius*Circle.pi\n",
        "  def setRadius(self,new_radius):\n",
        "     self.radius=new_radius\n",
        "     self.area=new_radius*new_radius*self.pi\n",
        "  def getCircumference(self):\n",
        "    return  self.radius*self.pi*2\n",
        "  @classmethod\n",
        "  def getpi(cls):\n",
        "      print(\"Value of pi:\",cls.pi)\n",
        "  @staticmethod\n",
        "  def display():\n",
        "      print(\"Area under circumference are calculated\")\n",
        "c=Circle()\n",
        "Circle.getpi()\n",
        "Circle.display()\n",
        "print(\"radius is \",c.radius)\n",
        "print(\"Area is \",c.area)\n",
        "print(\"circumference is \",c.getCircumference())"
      ],
      "metadata": {
        "colab": {
          "base_uri": "https://localhost:8080/"
        },
        "id": "6MbuyH6MEL4b",
        "outputId": "df8acb45-53b3-4880-a03a-523feecc04fd"
      },
      "execution_count": 9,
      "outputs": [
        {
          "output_type": "stream",
          "name": "stdout",
          "text": [
            "Value of pi: 3.14\n",
            "Area under circumference are calculated\n",
            "radius is  1\n",
            "Area is  3.14\n",
            "circumference is  6.28\n"
          ]
        }
      ]
    },
    {
      "cell_type": "code",
      "source": [
        "class Animal:\n",
        "  def __init__(self):\n",
        "    print(\"Animal created\")\n",
        "  def who(self):\n",
        "    print(\"Cat\")\n",
        "  def eat(self):\n",
        "    print(\"eating\")\n",
        "class Dog(Animal):\n",
        "  def __init__(self):\n",
        "    Animal.__init__(self)\n",
        "    print(\"dog created\")\n",
        "  def who(self):\n",
        "    print(\"Dog\")\n",
        "  def bark(self):\n",
        "    print(\"woof!!\")\n",
        "\n",
        "\n"
      ],
      "metadata": {
        "id": "9mjXMDjIP94a"
      },
      "execution_count": 13,
      "outputs": []
    },
    {
      "cell_type": "code",
      "source": [
        "d=Dog()  #same function then override"
      ],
      "metadata": {
        "colab": {
          "base_uri": "https://localhost:8080/"
        },
        "id": "AYhg2JNfTXmA",
        "outputId": "8b16cdcd-228b-4cc7-e39d-e0bd096b0622"
      },
      "execution_count": 14,
      "outputs": [
        {
          "output_type": "stream",
          "name": "stdout",
          "text": [
            "Animal created\n",
            "dog created\n"
          ]
        }
      ]
    },
    {
      "cell_type": "markdown",
      "source": [
        "d.who()"
      ],
      "metadata": {
        "id": "CPdO-hmmULZ7"
      }
    },
    {
      "cell_type": "code",
      "source": [
        "d.eat() # even though there is no eat fun in dog still it prints because it inherits from animal"
      ],
      "metadata": {
        "colab": {
          "base_uri": "https://localhost:8080/"
        },
        "id": "twpWDwQwUc4W",
        "outputId": "c15f08fb-d84e-4008-c692-ff0a8acaa4c8"
      },
      "execution_count": 18,
      "outputs": [
        {
          "output_type": "stream",
          "name": "stdout",
          "text": [
            "eating\n"
          ]
        }
      ]
    },
    {
      "cell_type": "code",
      "source": [
        "d.bark() # print because bark function is in dog"
      ],
      "metadata": {
        "colab": {
          "base_uri": "https://localhost:8080/"
        },
        "id": "7wfJ9umhUe5f",
        "outputId": "51982954-cf5c-4717-8c90-723b511ca897"
      },
      "execution_count": 19,
      "outputs": [
        {
          "output_type": "stream",
          "name": "stdout",
          "text": [
            "woof!!\n"
          ]
        }
      ]
    },
    {
      "cell_type": "code",
      "source": [
        "#polymorphism\n"
      ],
      "metadata": {
        "id": "eNlwWUY0U2WS"
      },
      "execution_count": null,
      "outputs": []
    },
    {
      "cell_type": "code",
      "source": [
        "class Dog:\n",
        "  def __init__(self,name):\n",
        "    self.name=name\n",
        "  def speak(self):\n",
        "    return self.name+\"woof\"\n",
        "class Cat:\n",
        "  def __init__(self,name):\n",
        "    self.name=name\n",
        "  def speak(self):\n",
        "    return self.name+\"meow\"\n",
        "maddy=Dog('maddy')\n",
        "oreo=Cat('oreo')\n",
        "print(maddy.speak())\n",
        "print(oreo.speak())\n"
      ],
      "metadata": {
        "colab": {
          "base_uri": "https://localhost:8080/"
        },
        "id": "HTp4f7xkVg9p",
        "outputId": "98302127-18d9-46ef-e897-009ac526a4e0"
      },
      "execution_count": 22,
      "outputs": [
        {
          "output_type": "stream",
          "name": "stdout",
          "text": [
            "maddywoof\n",
            "oreomeow\n"
          ]
        }
      ]
    },
    {
      "cell_type": "code",
      "source": [
        "class Animal():\n",
        "  def __init__(self,name):\n",
        "    self.name=name\n",
        "  def speak(self):\n",
        "      raise NotImplementedError(\"Subclass must implment abstract method\")\n",
        "\n",
        "class Dog(Animal):\n",
        "  def speak(self):\n",
        "    return self.name+\"woof\"\n",
        "class Cat(Animal):\n",
        "  def speak(self):\n",
        "    return self.name+\"meow\"\n",
        "maddy=Dog('maddy')\n",
        "oreo=Cat('oreo')\n",
        "print(maddy.speak())\n",
        "print(oreo.speak())\n"
      ],
      "metadata": {
        "colab": {
          "base_uri": "https://localhost:8080/"
        },
        "id": "BfX4uWNdW9TB",
        "outputId": "b1201e75-66bf-4920-aedf-0fa838df0aa0"
      },
      "execution_count": 27,
      "outputs": [
        {
          "output_type": "stream",
          "name": "stdout",
          "text": [
            "maddywoof\n",
            "oreomeow\n"
          ]
        }
      ]
    }
  ]
}