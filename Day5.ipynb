{
  "nbformat": 4,
  "nbformat_minor": 0,
  "metadata": {
    "colab": {
      "provenance": []
    },
    "kernelspec": {
      "name": "python3",
      "display_name": "Python 3"
    },
    "language_info": {
      "name": "python"
    }
  },
  "cells": [
    {
      "cell_type": "code",
      "execution_count": null,
      "metadata": {
        "id": "xDUe2jH6TtKv"
      },
      "outputs": [],
      "source": []
    },
    {
      "cell_type": "markdown",
      "source": [
        "Lambda expressions ,Map and Filter"
      ],
      "metadata": {
        "id": "V1tooAYGUQRt"
      }
    },
    {
      "cell_type": "code",
      "source": [],
      "metadata": {
        "id": "sZzegdEgUT9L"
      },
      "execution_count": null,
      "outputs": []
    },
    {
      "cell_type": "markdown",
      "source": [
        "MAP"
      ],
      "metadata": {
        "id": "_knbfabJUZca"
      }
    },
    {
      "cell_type": "code",
      "source": [
        "def square(num):\n",
        "   return num**2\n",
        "nums=[1,2,3,4,5]\n",
        "map(square,nums)\n",
        "list(map(square,nums))"
      ],
      "metadata": {
        "colab": {
          "base_uri": "https://localhost:8080/"
        },
        "id": "W_9xa7NvUayt",
        "outputId": "c051e9c1-ba2a-4ab0-934d-108e31ed7a45"
      },
      "execution_count": null,
      "outputs": [
        {
          "output_type": "execute_result",
          "data": {
            "text/plain": [
              "[1, 4, 9, 16, 25]"
            ]
          },
          "metadata": {},
          "execution_count": 2
        }
      ]
    },
    {
      "cell_type": "markdown",
      "source": [],
      "metadata": {
        "id": "7Dcd67cx3T_h"
      }
    },
    {
      "cell_type": "code",
      "source": [
        "def splicer(mystring):\n",
        "  if len(mystring)%2==0:\n",
        "    return \"even\"\n",
        "  else:\n",
        "    return mystring[0]\n",
        "names=[\"apple\",\"banana\",\"guava\",\"mangoes\"]\n",
        "list(map(splicer,names))"
      ],
      "metadata": {
        "colab": {
          "base_uri": "https://localhost:8080/"
        },
        "id": "I3vAR-rGVRk0",
        "outputId": "e6b5ee86-449e-4090-bea8-bb15d3bddc4d"
      },
      "execution_count": null,
      "outputs": [
        {
          "output_type": "execute_result",
          "data": {
            "text/plain": [
              "['a', 'even', 'g', 'm']"
            ]
          },
          "metadata": {},
          "execution_count": 5
        }
      ]
    },
    {
      "cell_type": "code",
      "source": [
        "def check_even(num):\n",
        "  return num%2==0\n",
        "nums=[1,2,3,4,5,6,7,8,9]\n",
        "list(filter(check_even,nums))"
      ],
      "metadata": {
        "colab": {
          "base_uri": "https://localhost:8080/"
        },
        "id": "p40tosdkWDRZ",
        "outputId": "88214b5b-bbb8-4a9a-fe3d-231a4232014a"
      },
      "execution_count": null,
      "outputs": [
        {
          "output_type": "execute_result",
          "data": {
            "text/plain": [
              "[2, 4, 6, 8]"
            ]
          },
          "metadata": {},
          "execution_count": 6
        }
      ]
    },
    {
      "cell_type": "code",
      "source": [
        "def square(num):\n",
        "  return num**2\n",
        "square(3)"
      ],
      "metadata": {
        "colab": {
          "base_uri": "https://localhost:8080/"
        },
        "id": "D2JBu-3OWZlF",
        "outputId": "a318bb47-0846-4b11-a3ed-2d04ddb98e7d"
      },
      "execution_count": null,
      "outputs": [
        {
          "output_type": "execute_result",
          "data": {
            "text/plain": [
              "9"
            ]
          },
          "metadata": {},
          "execution_count": 8
        }
      ]
    },
    {
      "cell_type": "code",
      "source": [
        "square =lambda num:num**2\n",
        "square(2)"
      ],
      "metadata": {
        "colab": {
          "base_uri": "https://localhost:8080/"
        },
        "id": "DOvvszBeW8bT",
        "outputId": "3253584a-63f4-4769-ea49-849f6c90adf1"
      },
      "execution_count": null,
      "outputs": [
        {
          "output_type": "execute_result",
          "data": {
            "text/plain": [
              "4"
            ]
          },
          "metadata": {},
          "execution_count": 10
        }
      ]
    },
    {
      "cell_type": "code",
      "source": [
        "list(map(lambda num:num**2,nums))"
      ],
      "metadata": {
        "colab": {
          "base_uri": "https://localhost:8080/"
        },
        "id": "fSVluy31XMyn",
        "outputId": "c6eaa4d6-1171-4be0-f876-3b39dcfd86ba"
      },
      "execution_count": null,
      "outputs": [
        {
          "output_type": "execute_result",
          "data": {
            "text/plain": [
              "[1, 4, 9, 16, 25, 36, 49, 64, 81]"
            ]
          },
          "metadata": {},
          "execution_count": 12
        }
      ]
    },
    {
      "cell_type": "code",
      "source": [
        "list(filter(lambda num:num%2==0,nums))"
      ],
      "metadata": {
        "colab": {
          "base_uri": "https://localhost:8080/"
        },
        "id": "_lHlm08TXWto",
        "outputId": "a44f5f30-fd2d-49a4-ef75-1e8ceccd5414"
      },
      "execution_count": null,
      "outputs": [
        {
          "output_type": "execute_result",
          "data": {
            "text/plain": [
              "[2, 4, 6, 8]"
            ]
          },
          "metadata": {},
          "execution_count": 14
        }
      ]
    },
    {
      "cell_type": "code",
      "source": [
        "s=[1,2,3,4,5]\n",
        "lambda s:s[0]"
      ],
      "metadata": {
        "colab": {
          "base_uri": "https://localhost:8080/"
        },
        "id": "mmhhQsP9Xkbu",
        "outputId": "24a0f7b0-04b0-4749-fa2e-012488aa78f8"
      },
      "execution_count": null,
      "outputs": [
        {
          "output_type": "execute_result",
          "data": {
            "text/plain": [
              "<function __main__.<lambda>(s)>"
            ]
          },
          "metadata": {},
          "execution_count": 16
        }
      ]
    },
    {
      "cell_type": "code",
      "source": [
        "n = int(input())\n",
        "for i in range(0,n+1):\n",
        "  if i>0 and i<n:\n",
        "    print(i*i)\n",
        "\n"
      ],
      "metadata": {
        "colab": {
          "base_uri": "https://localhost:8080/"
        },
        "id": "e16-aN75Yj00",
        "outputId": "21955d7a-ed66-45cb-c3df-a173edfc6de4"
      },
      "execution_count": null,
      "outputs": [
        {
          "output_type": "stream",
          "name": "stdout",
          "text": [
            "5\n",
            "1\n",
            "4\n",
            "9\n",
            "16\n"
          ]
        }
      ]
    },
    {
      "cell_type": "markdown",
      "source": [
        "keywords and arguments"
      ],
      "metadata": {
        "id": "JLH3OnYz3VXj"
      }
    },
    {
      "cell_type": "code",
      "source": [
        "def fun(a,b):\n",
        "  return sum((a,b))\n",
        "fun(30,40)"
      ],
      "metadata": {
        "colab": {
          "base_uri": "https://localhost:8080/"
        },
        "id": "9rfH6vaG3XY5",
        "outputId": "48d18f2d-f8e5-44ab-9cc8-2ba729d20ff4"
      },
      "execution_count": 2,
      "outputs": [
        {
          "output_type": "execute_result",
          "data": {
            "text/plain": [
              "70"
            ]
          },
          "metadata": {},
          "execution_count": 2
        }
      ]
    },
    {
      "cell_type": "code",
      "source": [
        "def fun(a=0,b=0,c=0,d=10):\n",
        "  return sum((a,b,c,d))\n",
        "fun(20,30,40)\n"
      ],
      "metadata": {
        "colab": {
          "base_uri": "https://localhost:8080/"
        },
        "id": "3kJPr3bc30eM",
        "outputId": "919f1222-823a-4071-da55-567a99be64f5"
      },
      "execution_count": 3,
      "outputs": [
        {
          "output_type": "execute_result",
          "data": {
            "text/plain": [
              "100"
            ]
          },
          "metadata": {},
          "execution_count": 3
        }
      ]
    },
    {
      "cell_type": "code",
      "source": [
        "def fun(*args):#takes any number of arguments\n",
        "  return sum(args)\n",
        "fun(10,20,49)"
      ],
      "metadata": {
        "colab": {
          "base_uri": "https://localhost:8080/"
        },
        "id": "46Fa1cWd4luA",
        "outputId": "2c8b4424-8494-4c66-b86a-4f819c187b9c"
      },
      "execution_count": 7,
      "outputs": [
        {
          "output_type": "execute_result",
          "data": {
            "text/plain": [
              "79"
            ]
          },
          "metadata": {},
          "execution_count": 7
        }
      ]
    },
    {
      "cell_type": "code",
      "source": [
        "def fun(*spam):\n",
        "  return sum(spam)\n",
        "fun(10,20)"
      ],
      "metadata": {
        "colab": {
          "base_uri": "https://localhost:8080/"
        },
        "id": "F4l4wegp5QYB",
        "outputId": "59b65111-63fc-47a1-d82b-0f79688e475d"
      },
      "execution_count": 8,
      "outputs": [
        {
          "output_type": "execute_result",
          "data": {
            "text/plain": [
              "30"
            ]
          },
          "metadata": {},
          "execution_count": 8
        }
      ]
    },
    {
      "cell_type": "code",
      "source": [
        "def fun(**keywordarg):\n",
        "  if 'fruit' in keywordarg:\n",
        "    print(f\"my fav fruit is {keywordarg['fruit']}\")\n",
        "  else:\n",
        "    print(\"i dont like fruit\")\n",
        "fun(fruit='pineapple')"
      ],
      "metadata": {
        "colab": {
          "base_uri": "https://localhost:8080/"
        },
        "id": "IIbAaQKn5z02",
        "outputId": "f7f72826-8dc6-45c5-830b-7e91f1e7749b"
      },
      "execution_count": 10,
      "outputs": [
        {
          "output_type": "stream",
          "name": "stdout",
          "text": [
            "my fav fruit is pineapple\n"
          ]
        }
      ]
    },
    {
      "cell_type": "code",
      "source": [
        "fun()"
      ],
      "metadata": {
        "colab": {
          "base_uri": "https://localhost:8080/"
        },
        "id": "TEWYhySa6xiF",
        "outputId": "86d29ba2-b0f5-4e62-839e-70fed9ae980b"
      },
      "execution_count": 11,
      "outputs": [
        {
          "output_type": "stream",
          "name": "stdout",
          "text": [
            "i dont like fruit\n"
          ]
        }
      ]
    },
    {
      "cell_type": "code",
      "source": [],
      "metadata": {
        "id": "OfaIsb_1639r"
      },
      "execution_count": null,
      "outputs": []
    },
    {
      "cell_type": "markdown",
      "source": [
        "you can pass *args and **keywordarg into the same function but *args have to appear before **keywordargs"
      ],
      "metadata": {
        "id": "9sGPNEcH7Fx3"
      }
    },
    {
      "cell_type": "code",
      "source": [
        "def fun(*args,**kwargs):\n",
        "  if 'fruit' and 'juice' in kwargs:\n",
        "    print(f\"I like {'and '.join(args)} and my favourite fruit is {kwargs['fruit']}\")\n",
        "    print(f\"may i have {kwargs['juice']} juice?\")\n",
        "  else:\n",
        "    pass\n",
        "fun(\"eggs\",\"chicken\",fruit=\"cherries\",juice=\"Orange\" )"
      ],
      "metadata": {
        "colab": {
          "base_uri": "https://localhost:8080/"
        },
        "id": "RdTGKEtx-Bg8",
        "outputId": "0c982f24-4ca8-414a-dbf8-235373feb2df"
      },
      "execution_count": 12,
      "outputs": [
        {
          "output_type": "stream",
          "name": "stdout",
          "text": [
            "I like eggsand chicken and my favourite fruit is cherries\n",
            "may i have Orange juice?\n"
          ]
        }
      ]
    },
    {
      "cell_type": "code",
      "source": [
        "\n",
        "fun(fruit=\"cherries\",juice=\"Orange\",\"eggs\",\"chicken\" )"
      ],
      "metadata": {
        "colab": {
          "base_uri": "https://localhost:8080/",
          "height": 106
        },
        "id": "2q79LjyHCUCt",
        "outputId": "c344eb89-1826-4497-a882-11d661135304"
      },
      "execution_count": 13,
      "outputs": [
        {
          "output_type": "error",
          "ename": "SyntaxError",
          "evalue": "positional argument follows keyword argument (<ipython-input-13-b4fdd40c403e>, line 1)",
          "traceback": [
            "\u001b[0;36m  File \u001b[0;32m\"<ipython-input-13-b4fdd40c403e>\"\u001b[0;36m, line \u001b[0;32m1\u001b[0m\n\u001b[0;31m    fun(fruit=\"cherries\",juice=\"Orange\",\"eggs\",\"chicken\" )\u001b[0m\n\u001b[0m                                                         ^\u001b[0m\n\u001b[0;31mSyntaxError\u001b[0m\u001b[0;31m:\u001b[0m positional argument follows keyword argument\n"
          ]
        }
      ]
    },
    {
      "cell_type": "code",
      "source": [
        " #exception handling\n",
        ""
      ],
      "metadata": {
        "id": "LjPAwULTDF7a"
      },
      "execution_count": null,
      "outputs": []
    },
    {
      "cell_type": "code",
      "source": [
        "a=9\n",
        "b=0\n",
        "print(a/b)\n"
      ],
      "metadata": {
        "colab": {
          "base_uri": "https://localhost:8080/",
          "height": 176
        },
        "id": "rz2tqTVrE4N4",
        "outputId": "3c36f6d3-51e0-46df-ca1f-4daddbdd725e"
      },
      "execution_count": 14,
      "outputs": [
        {
          "output_type": "error",
          "ename": "ZeroDivisionError",
          "evalue": "division by zero",
          "traceback": [
            "\u001b[0;31m---------------------------------------------------------------------------\u001b[0m",
            "\u001b[0;31mZeroDivisionError\u001b[0m                         Traceback (most recent call last)",
            "\u001b[0;32m<ipython-input-14-b862755930e0>\u001b[0m in \u001b[0;36m<cell line: 3>\u001b[0;34m()\u001b[0m\n\u001b[1;32m      1\u001b[0m \u001b[0ma\u001b[0m\u001b[0;34m=\u001b[0m\u001b[0;36m9\u001b[0m\u001b[0;34m\u001b[0m\u001b[0;34m\u001b[0m\u001b[0m\n\u001b[1;32m      2\u001b[0m \u001b[0mb\u001b[0m\u001b[0;34m=\u001b[0m\u001b[0;36m0\u001b[0m\u001b[0;34m\u001b[0m\u001b[0;34m\u001b[0m\u001b[0m\n\u001b[0;32m----> 3\u001b[0;31m \u001b[0mprint\u001b[0m\u001b[0;34m(\u001b[0m\u001b[0ma\u001b[0m\u001b[0;34m/\u001b[0m\u001b[0mb\u001b[0m\u001b[0;34m)\u001b[0m\u001b[0;34m\u001b[0m\u001b[0;34m\u001b[0m\u001b[0m\n\u001b[0m",
            "\u001b[0;31mZeroDivisionError\u001b[0m: division by zero"
          ]
        }
      ]
    },
    {
      "cell_type": "code",
      "source": [
        "try:\n",
        "  a=9\n",
        "  b=0\n",
        "  print(a/b)\n",
        "  print(\"done calculation\")\n",
        "except ZeroDivisionError:\n",
        "  print(\"error due to zero error division\")\n"
      ],
      "metadata": {
        "colab": {
          "base_uri": "https://localhost:8080/"
        },
        "id": "XbUFGWxnE-HE",
        "outputId": "c4b3fff9-c65f-44c5-8e06-a97534d16b82"
      },
      "execution_count": 15,
      "outputs": [
        {
          "output_type": "stream",
          "name": "stdout",
          "text": [
            "error due to zero error division\n"
          ]
        }
      ]
    },
    {
      "cell_type": "code",
      "source": [
        "try:\n",
        "  variable=10\n",
        "  print(variable+\"hello\")\n",
        "  print(variable/2)\n",
        "except ZeroDivisionError:\n",
        "  print(\"error due to zerodivision\")\n",
        "except (ValueError ,TypeError):\n",
        "  print(\"error due to valueerror\")\n"
      ],
      "metadata": {
        "colab": {
          "base_uri": "https://localhost:8080/"
        },
        "id": "bxqvCKNDFZac",
        "outputId": "72440a2f-1b61-4c21-9dae-27279957f2f9"
      },
      "execution_count": 18,
      "outputs": [
        {
          "output_type": "stream",
          "name": "stdout",
          "text": [
            "error due to valueerror\n"
          ]
        }
      ]
    },
    {
      "cell_type": "code",
      "source": [
        "try:\n",
        "  variable=10\n",
        "  print(variable+\"hello\")\n",
        "\n",
        "except ZeroDivisionError:\n",
        "  print(\"error due to zerodivision\")\n",
        "except (ValueError ,TypeError):\n",
        "  print(\"error due to valueerror\")\n",
        "finally:\n",
        "  print(variable/2)\n"
      ],
      "metadata": {
        "colab": {
          "base_uri": "https://localhost:8080/"
        },
        "id": "q7NlO3sUGghr",
        "outputId": "a1353eff-0c48-4420-c809-d81389af5e1c"
      },
      "execution_count": 19,
      "outputs": [
        {
          "output_type": "stream",
          "name": "stdout",
          "text": [
            "error due to valueerror\n",
            "5.0\n"
          ]
        }
      ]
    },
    {
      "cell_type": "code",
      "source": [
        "try:\n",
        "  variable=10\n",
        "  print(variable+\"hello\")\n",
        "\n",
        "\n",
        "except:\n",
        "  print(\"error\")\n",
        "\n"
      ],
      "metadata": {
        "colab": {
          "base_uri": "https://localhost:8080/"
        },
        "id": "BPtdyCCvGnd8",
        "outputId": "b4514f8d-5d5c-4a01-ede0-e32aeef8c7b4"
      },
      "execution_count": 20,
      "outputs": [
        {
          "output_type": "stream",
          "name": "stdout",
          "text": [
            "error\n"
          ]
        }
      ]
    },
    {
      "cell_type": "markdown",
      "source": [
        "Problem Solving"
      ],
      "metadata": {
        "id": "-T1-RQG0G6Fg"
      }
    },
    {
      "cell_type": "code",
      "source": [
        "#palindrome ex:12321"
      ],
      "metadata": {
        "id": "riujEUxwG8Ll"
      },
      "execution_count": null,
      "outputs": []
    },
    {
      "cell_type": "code",
      "source": [
        "def palindrome(n):\n",
        "  m=n\n",
        "  a=0\n",
        "\n",
        "  while m:\n",
        "    a=m%10 +a*10\n",
        "    m=m//10\n",
        "  if n==a:\n",
        "    print(f\"{n} is palindrome\")\n",
        "  else:\n",
        "     print(f\"{n} is not  palindrome\")\n",
        "num=int(input(\"enter a number:\"))\n",
        "palindrome(num)"
      ],
      "metadata": {
        "colab": {
          "base_uri": "https://localhost:8080/"
        },
        "id": "XEdcB_gGG9sg",
        "outputId": "2b476235-952e-4093-f7da-d7889f6aaf5c"
      },
      "execution_count": 23,
      "outputs": [
        {
          "output_type": "stream",
          "name": "stdout",
          "text": [
            "enter a number:121\n",
            "121 is palindrome\n"
          ]
        }
      ]
    },
    {
      "cell_type": "code",
      "source": [
        "#sum of n numbers\n",
        "def sum(n):\n",
        "  sum=(n*(n+1))/2\n",
        "  return sum\n",
        "sum(num)\n",
        "num=int(input(\"enter a number\"))\n",
        "print(f\"the sum is {sum(num)}\")"
      ],
      "metadata": {
        "colab": {
          "base_uri": "https://localhost:8080/"
        },
        "id": "yQbjPXcHKZHe",
        "outputId": "44c1d45b-a9e9-4355-b27c-2d3c1ea3b8f5"
      },
      "execution_count": 27,
      "outputs": [
        {
          "output_type": "stream",
          "name": "stdout",
          "text": [
            "enter a number10\n",
            "the sum is 55.0\n"
          ]
        }
      ]
    },
    {
      "cell_type": "code",
      "source": [
        "#another method\n",
        "num=int(input(\"enter a number:\"))\n",
        "if num<0:\n",
        "  print(\"enter positive integer\")\n",
        "else:\n",
        "  sum=0\n",
        "  while num>0:\n",
        "    sum+= num\n",
        "    num-=1\n",
        "  print(f\"the sum is {sum}\")"
      ],
      "metadata": {
        "colab": {
          "base_uri": "https://localhost:8080/"
        },
        "id": "GToS8zGsLlDc",
        "outputId": "a730eacd-82ec-42a1-ae78-3e66d9676e98"
      },
      "execution_count": 28,
      "outputs": [
        {
          "output_type": "stream",
          "name": "stdout",
          "text": [
            "enter a number:4\n",
            "the sum is 10\n"
          ]
        }
      ]
    },
    {
      "cell_type": "code",
      "source": [
        "#check the num is prime or not\n",
        "num=int(input(\"enter a number:\"))\n",
        "if num >1:\n",
        "  for i in range(2,num):\n",
        "    if num%i==0:\n",
        "      print(f\"{num} is not a prime number\")\n",
        "      break\n",
        "    else:\n",
        "      print(f\"{num} is prime number\")\n",
        "\n",
        "else:\n",
        "  print(f\"{num} is not a prime number\")"
      ],
      "metadata": {
        "colab": {
          "base_uri": "https://localhost:8080/"
        },
        "id": "CHusv1UyMDrF",
        "outputId": "f782e1d2-439a-4545-b39d-31a4f79e40ed"
      },
      "execution_count": 33,
      "outputs": [
        {
          "output_type": "stream",
          "name": "stdout",
          "text": [
            "enter a number:6\n",
            "6 is not a prime number\n"
          ]
        }
      ]
    }
  ]
}